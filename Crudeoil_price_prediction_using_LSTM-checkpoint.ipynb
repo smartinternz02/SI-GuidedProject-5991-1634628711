{
 "cells": [
  {
   "cell_type": "code",
   "execution_count": 1,
   "metadata": {
    "colab": {
     "base_uri": "https://localhost:8080/",
     "height": 74,
     "resources": {
      "http://localhost:8080/nbextensions/google.colab/files.js": {
       "data": "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",
       "headers": [
        [
         "content-type",
         "application/javascript"
        ]
       ],
       "ok": true,
       "status": 200,
       "status_text": ""
      }
     }
    },
    "colab_type": "code",
    "id": "oXtn5VE7Nw7x",
    "outputId": "7fdecace-6896-476f-c50e-1a2c0f87e356"
   },
   "outputs": [
    {
     "ename": "ModuleNotFoundError",
     "evalue": "No module named 'google.colab'",
     "output_type": "error",
     "traceback": [
      "\u001b[1;31m---------------------------------------------------------------------------\u001b[0m",
      "\u001b[1;31mModuleNotFoundError\u001b[0m                       Traceback (most recent call last)",
      "\u001b[1;32m<ipython-input-1-21dc3c638f66>\u001b[0m in \u001b[0;36m<module>\u001b[1;34m\u001b[0m\n\u001b[1;32m----> 1\u001b[1;33m \u001b[1;32mfrom\u001b[0m \u001b[0mgoogle\u001b[0m\u001b[1;33m.\u001b[0m\u001b[0mcolab\u001b[0m \u001b[1;32mimport\u001b[0m \u001b[0mfiles\u001b[0m\u001b[1;33m\u001b[0m\u001b[1;33m\u001b[0m\u001b[0m\n\u001b[0m\u001b[0;32m      2\u001b[0m \u001b[0muploaded\u001b[0m \u001b[1;33m=\u001b[0m \u001b[0mfiles\u001b[0m\u001b[1;33m.\u001b[0m\u001b[0mupload\u001b[0m\u001b[1;33m(\u001b[0m\u001b[1;33m)\u001b[0m\u001b[1;33m\u001b[0m\u001b[1;33m\u001b[0m\u001b[0m\n",
      "\u001b[1;31mModuleNotFoundError\u001b[0m: No module named 'google.colab'"
     ]
    }
   ],
   "source": [
    "from google.colab import files\n",
    "uploaded = files.upload()"
   ]
  },
  {
   "cell_type": "code",
   "execution_count": 0,
   "metadata": {
    "colab": {},
    "colab_type": "code",
    "id": "8qwzKVO_OE8O"
   },
   "outputs": [],
   "source": [
    "import pandas as pd\n",
    "import io\n",
    "df_data_1 = pd.read_csv(io.BytesIO(uploaded['DCOILBRENTEU.csv']))"
   ]
  },
  {
   "cell_type": "code",
   "execution_count": 0,
   "metadata": {
    "colab": {
     "base_uri": "https://localhost:8080/",
     "height": 343
    },
    "colab_type": "code",
    "id": "CZxwWeiAOcv6",
    "outputId": "90b1fca2-748a-4243-dafe-ed0423b6f0a0"
   },
   "outputs": [
    {
     "data": {
      "text/html": [
       "<div>\n",
       "<style scoped>\n",
       "    .dataframe tbody tr th:only-of-type {\n",
       "        vertical-align: middle;\n",
       "    }\n",
       "\n",
       "    .dataframe tbody tr th {\n",
       "        vertical-align: top;\n",
       "    }\n",
       "\n",
       "    .dataframe thead th {\n",
       "        text-align: right;\n",
       "    }\n",
       "</style>\n",
       "<table border=\"1\" class=\"dataframe\">\n",
       "  <thead>\n",
       "    <tr style=\"text-align: right;\">\n",
       "      <th></th>\n",
       "      <th>DATE</th>\n",
       "      <th>DCOILBRENTEU</th>\n",
       "    </tr>\n",
       "  </thead>\n",
       "  <tbody>\n",
       "    <tr>\n",
       "      <th>0</th>\n",
       "      <td>1987-05-20</td>\n",
       "      <td>18.63</td>\n",
       "    </tr>\n",
       "    <tr>\n",
       "      <th>1</th>\n",
       "      <td>1987-05-21</td>\n",
       "      <td>18.45</td>\n",
       "    </tr>\n",
       "    <tr>\n",
       "      <th>2</th>\n",
       "      <td>1987-05-22</td>\n",
       "      <td>18.55</td>\n",
       "    </tr>\n",
       "    <tr>\n",
       "      <th>3</th>\n",
       "      <td>1987-05-25</td>\n",
       "      <td>18.60</td>\n",
       "    </tr>\n",
       "    <tr>\n",
       "      <th>4</th>\n",
       "      <td>1987-05-26</td>\n",
       "      <td>18.63</td>\n",
       "    </tr>\n",
       "    <tr>\n",
       "      <th>5</th>\n",
       "      <td>1987-05-27</td>\n",
       "      <td>18.60</td>\n",
       "    </tr>\n",
       "    <tr>\n",
       "      <th>6</th>\n",
       "      <td>1987-05-28</td>\n",
       "      <td>18.60</td>\n",
       "    </tr>\n",
       "    <tr>\n",
       "      <th>7</th>\n",
       "      <td>1987-05-29</td>\n",
       "      <td>18.58</td>\n",
       "    </tr>\n",
       "    <tr>\n",
       "      <th>8</th>\n",
       "      <td>1987-06-01</td>\n",
       "      <td>18.65</td>\n",
       "    </tr>\n",
       "    <tr>\n",
       "      <th>9</th>\n",
       "      <td>1987-06-02</td>\n",
       "      <td>18.68</td>\n",
       "    </tr>\n",
       "  </tbody>\n",
       "</table>\n",
       "</div>"
      ],
      "text/plain": [
       "         DATE DCOILBRENTEU\n",
       "0  1987-05-20        18.63\n",
       "1  1987-05-21        18.45\n",
       "2  1987-05-22        18.55\n",
       "3  1987-05-25        18.60\n",
       "4  1987-05-26        18.63\n",
       "5  1987-05-27        18.60\n",
       "6  1987-05-28        18.60\n",
       "7  1987-05-29        18.58\n",
       "8  1987-06-01        18.65\n",
       "9  1987-06-02        18.68"
      ]
     },
     "execution_count": 3,
     "metadata": {
      "tags": []
     },
     "output_type": "execute_result"
    }
   ],
   "source": [
    "df_data_1.head(10)"
   ]
  },
  {
   "cell_type": "code",
   "execution_count": 0,
   "metadata": {
    "colab": {
     "base_uri": "https://localhost:8080/",
     "height": 34
    },
    "colab_type": "code",
    "id": "vO5DNFSDO2jk",
    "outputId": "01f47f6c-6ae0-422a-a96c-61cd9835b48d"
   },
   "outputs": [
    {
     "name": "stdout",
     "output_type": "stream",
     "text": [
      "(8362, 2)\n"
     ]
    }
   ],
   "source": [
    "df_data_1 = df_data_1[df_data_1.DCOILBRENTEU != \".\"]\n",
    "print(df_data_1.shape)"
   ]
  },
  {
   "cell_type": "code",
   "execution_count": 0,
   "metadata": {
    "colab": {
     "base_uri": "https://localhost:8080/",
     "height": 295
    },
    "colab_type": "code",
    "id": "cvCfNo9sO543",
    "outputId": "0fb6a8b4-5cca-426e-fb53-aa0f38476c67"
   },
   "outputs": [
    {
     "data": {
      "image/png": "[encoded data removed]",
      "text/plain": [
       "<Figure size 432x288 with 1 Axes>"
      ]
     },
     "metadata": {
      "needs_background": "light",
      "tags": []
     },
     "output_type": "display_data"
    }
   ],
   "source": [
    "import matplotlib.pyplot as plt\n",
    "df_data_1_plot = df_data_1.iloc[:,1:2].values.astype(float)\n",
    "# Visualising the Data\n",
    "plt.plot(df_data_1_plot, color = 'red', label = 'Crude Oil Prices')\n",
    "plt.title('Crude Oil Prices Historical Data')\n",
    "plt.xlabel('Time (Days)')\n",
    "plt.ylabel('Crude Oil Prices')\n",
    "plt.legend()\n",
    "plt.show()"
   ]
  },
  {
   "cell_type": "code",
   "execution_count": 0,
   "metadata": {
    "colab": {},
    "colab_type": "code",
    "id": "tQHHX2gQPA1g"
   },
   "outputs": [],
   "source": [
    "#import packages\n",
    "import numpy as np\n",
    "import pandas as pd\n",
    "from tensorflow.keras.preprocessing import sequence\n",
    "from tensorflow.keras.models import load_model"
   ]
  },
  {
   "cell_type": "code",
   "execution_count": 0,
   "metadata": {
    "colab": {},
    "colab_type": "code",
    "id": "PTf5oUvvPEKs"
   },
   "outputs": [],
   "source": [
    "# defining the batch size and number of epochs\n",
    "batch_size = 64\n",
    "epochs = 120\n",
    "timesteps = 30"
   ]
  },
  {
   "cell_type": "code",
   "execution_count": 0,
   "metadata": {
    "colab": {
     "base_uri": "https://localhost:8080/",
     "height": 50
    },
    "colab_type": "code",
    "id": "3ft8K4ldPMqP",
    "outputId": "5a2bcd7d-934e-437a-b09e-b0fe889398a5"
   },
   "outputs": [
    {
     "name": "stdout",
     "output_type": "stream",
     "text": [
      "8362\n",
      "7525.8\n"
     ]
    }
   ],
   "source": [
    "length = len(df_data_1)\n",
    "print(length)\n",
    "length *= 1 - 0.1\n",
    "print(length)"
   ]
  },
  {
   "cell_type": "code",
   "execution_count": 0,
   "metadata": {
    "colab": {},
    "colab_type": "code",
    "id": "EcG_NNcVPPEc"
   },
   "outputs": [],
   "source": [
    "def get_train_length(dataset, batch_size, test_percent):\n",
    "    # substract test_percent to be excluded from training, reserved for testset\n",
    "    length = len(dataset)\n",
    "    length *= 1 - test_percent\n",
    "    train_length_values = []\n",
    "    for x in range(int(length) - 100,int(length)): \n",
    "        modulo=x%batch_size\n",
    "        if (modulo == 0):\n",
    "            train_length_values.append(x)\n",
    "            print(x)\n",
    "    return (max(train_length_values))"
   ]
  },
  {
   "cell_type": "code",
   "execution_count": 0,
   "metadata": {
    "colab": {
     "base_uri": "https://localhost:8080/",
     "height": 50
    },
    "colab_type": "code",
    "id": "bldsLo1tPTu9",
    "outputId": "99e93993-3014-4258-fa9f-3b182d617ce9"
   },
   "outputs": [
    {
     "name": "stdout",
     "output_type": "stream",
     "text": [
      "7488\n",
      "7488\n"
     ]
    }
   ],
   "source": [
    "length = get_train_length(df_data_1, batch_size, 0.1)\n",
    "print(length)"
   ]
  },
  {
   "cell_type": "code",
   "execution_count": 0,
   "metadata": {
    "colab": {
     "base_uri": "https://localhost:8080/",
     "height": 34
    },
    "colab_type": "code",
    "id": "nQtEhYgaPW7v",
    "outputId": "9a83dd00-d99c-4387-c6ac-80449e8bf3ea"
   },
   "outputs": [
    {
     "data": {
      "text/plain": [
       "(7548, 1)"
      ]
     },
     "execution_count": 12,
     "metadata": {
      "tags": []
     },
     "output_type": "execute_result"
    }
   ],
   "source": [
    "#Adding timesteps * 2\n",
    "upper_train = length + timesteps*2\n",
    "df_data_1_train = df_data_1[0:upper_train]\n",
    "training_set = df_data_1_train.iloc[:,1:2].values\n",
    "training_set.shape"
   ]
  },
  {
   "cell_type": "code",
   "execution_count": 0,
   "metadata": {
    "colab": {
     "base_uri": "https://localhost:8080/",
     "height": 34
    },
    "colab_type": "code",
    "id": "3lT45jxfPark",
    "outputId": "c0fe7a87-7b68-424d-fade-25bb11dbf03d"
   },
   "outputs": [
    {
     "data": {
      "text/plain": [
       "(7548, 1)"
      ]
     },
     "execution_count": 13,
     "metadata": {
      "tags": []
     },
     "output_type": "execute_result"
    }
   ],
   "source": [
    "# Feature Scaling\n",
    "#scale between 0 and 1. the weights are esier to find.\n",
    "from sklearn.preprocessing import MinMaxScaler\n",
    "sc = MinMaxScaler(feature_range = (0, 1))\n",
    "training_set_scaled = sc.fit_transform(np.float64(training_set))\n",
    "training_set_scaled.shape"
   ]
  },
  {
   "cell_type": "code",
   "execution_count": 0,
   "metadata": {
    "colab": {
     "base_uri": "https://localhost:8080/",
     "height": 470
    },
    "colab_type": "code",
    "id": "0KD-gPGBPd6i",
    "outputId": "2e4f2227-186d-4c98-b479-6d9b43f52f53"
   },
   "outputs": [
    {
     "name": "stdout",
     "output_type": "stream",
     "text": [
      "7518\n",
      "7488\n",
      "7488\n",
      "[array([0.07067112, 0.0693363 , 0.07007786, 0.07044865, 0.07067112,\n",
      "       0.07044865, 0.07044865, 0.07030033, 0.07081943, 0.0710419 ,\n",
      "       0.07156099, 0.07178346, 0.07081943, 0.07156099, 0.07178346,\n",
      "       0.07178346, 0.0710419 , 0.07178346, 0.07267334, 0.07363737,\n",
      "       0.07378569, 0.07378569, 0.07415647, 0.07267334, 0.07156099,\n",
      "       0.07119021, 0.07400816, 0.07452725, 0.07400816, 0.07326659]), array([0.0693363 , 0.07007786, 0.07044865, 0.07067112, 0.07044865,\n",
      "       0.07044865, 0.07030033, 0.07081943, 0.0710419 , 0.07156099,\n",
      "       0.07178346, 0.07081943, 0.07156099, 0.07178346, 0.07178346,\n",
      "       0.0710419 , 0.07178346, 0.07267334, 0.07363737, 0.07378569,\n",
      "       0.07378569, 0.07415647, 0.07267334, 0.07156099, 0.07119021,\n",
      "       0.07400816, 0.07452725, 0.07400816, 0.07326659, 0.07526882])]\n",
      "(7488, 30)\n",
      "[array([0.07526882, 0.07586207, 0.07697442, 0.07712273, 0.07697442,\n",
      "       0.07845755, 0.07882833, 0.07956989, 0.07994067, 0.08290693,\n",
      "       0.08379681, 0.08550241, 0.08490916, 0.08342603, 0.08327772,\n",
      "       0.0819429 , 0.07771598, 0.0756396 , 0.07919911, 0.08068224,\n",
      "       0.08231368, 0.08105302, 0.08787542, 0.08565072, 0.07934742,\n",
      "       0.07897664, 0.07823508, 0.07660363, 0.07675195, 0.07712273]), array([0.07586207, 0.07697442, 0.07712273, 0.07697442, 0.07845755,\n",
      "       0.07882833, 0.07956989, 0.07994067, 0.08290693, 0.08379681,\n",
      "       0.08550241, 0.08490916, 0.08342603, 0.08327772, 0.0819429 ,\n",
      "       0.07771598, 0.0756396 , 0.07919911, 0.08068224, 0.08231368,\n",
      "       0.08105302, 0.08787542, 0.08565072, 0.07934742, 0.07897664,\n",
      "       0.07823508, 0.07660363, 0.07675195, 0.07712273, 0.07638116])]\n",
      "(7488, 30)\n"
     ]
    }
   ],
   "source": [
    "X_train = []\n",
    "y_train = []\n",
    "\n",
    "# Creating a data structure with n timesteps\n",
    "\n",
    "print(length + timesteps)\n",
    "for i in range(timesteps, length + timesteps): \n",
    "    X_train.append(training_set_scaled[i-timesteps:i,0])\n",
    "    y_train.append(training_set_scaled[i:i+timesteps,0])\n",
    "\n",
    "print(len(X_train))\n",
    "print(len(y_train))\n",
    "#create X_train matrix\n",
    "#30 items per array (timestep) \n",
    "print(X_train[0:2])\n",
    "print(np.array(X_train).shape)\n",
    "#create Y_train matrix\n",
    "#30 items per array (timestep) \n",
    "print(y_train[0:2])\n",
    "print(np.array(y_train).shape)"
   ]
  },
  {
   "cell_type": "code",
   "execution_count": 0,
   "metadata": {
    "colab": {
     "base_uri": "https://localhost:8080/",
     "height": 50
    },
    "colab_type": "code",
    "id": "TgbUezDBPhFl",
    "outputId": "95e930d7-ed7f-47d3-f8de-baa8efa0a4e3"
   },
   "outputs": [
    {
     "name": "stdout",
     "output_type": "stream",
     "text": [
      "(7488, 30, 1)\n",
      "(7488, 30, 1)\n"
     ]
    }
   ],
   "source": [
    "# Reshaping\n",
    "X_train, y_train = np.array(X_train), np.array(y_train)\n",
    "X_train = np.reshape(X_train, (X_train.shape[0], X_train.shape[1], 1))\n",
    "y_train = np.reshape(y_train, (y_train.shape[0], y_train.shape[1], 1))\n",
    "print(X_train.shape)\n",
    "print(y_train.shape)"
   ]
  },
  {
   "cell_type": "code",
   "execution_count": 0,
   "metadata": {
    "colab": {},
    "colab_type": "code",
    "id": "p97KpqHsPk_l"
   },
   "outputs": [],
   "source": [
    "# Building the LSTM\n",
    "# Importing the Keras libraries and packages\n",
    "\n",
    "from tensorflow.keras.layers import Dense\n",
    "from tensorflow.keras.layers import Input, LSTM\n",
    "from tensorflow.keras.models import Model\n",
    "import h5py"
   ]
  },
  {
   "cell_type": "code",
   "execution_count": 0,
   "metadata": {
    "colab": {
     "base_uri": "https://localhost:8080/",
     "height": 286
    },
    "colab_type": "code",
    "id": "_-CZdIPgPtGZ",
    "outputId": "7e9d7516-06fc-4ac7-be2f-2295aa464a73"
   },
   "outputs": [
    {
     "name": "stdout",
     "output_type": "stream",
     "text": [
      "Model: \"model\"\n",
      "_________________________________________________________________\n",
      "Layer (type)                 Output Shape              Param #   \n",
      "=================================================================\n",
      "input_1 (InputLayer)         [(64, 30, 1)]             0         \n",
      "_________________________________________________________________\n",
      "lstm (LSTM)                  (64, 30, 10)              480       \n",
      "_________________________________________________________________\n",
      "lstm_1 (LSTM)                (64, 30, 10)              840       \n",
      "_________________________________________________________________\n",
      "dense (Dense)                (64, 30, 1)               11        \n",
      "=================================================================\n",
      "Total params: 1,331\n",
      "Trainable params: 1,331\n",
      "Non-trainable params: 0\n",
      "_________________________________________________________________\n"
     ]
    }
   ],
   "source": [
    "# Initialising the LSTM Model with MAE Loss-Function\n",
    "# Using Functional API\n",
    "\n",
    "inputs_1_mae = Input(batch_shape=(batch_size,timesteps,1))\n",
    "#each layer is the input of the next layer\n",
    "lstm_1_mae = LSTM(10, stateful=True, return_sequences=True)(inputs_1_mae)\n",
    "lstm_2_mae = LSTM(10, stateful=True, return_sequences=True)(lstm_1_mae)\n",
    "\n",
    "output_1_mae = Dense(units = 1)(lstm_2_mae)\n",
    "\n",
    "regressor_mae = Model(inputs=inputs_1_mae, outputs = output_1_mae)\n",
    "\n",
    "#adam is fast starting off and then gets slower and more precise\n",
    "#mae -> mean absolute error loss function\n",
    "regressor_mae.compile(optimizer='adam', loss = 'mae')\n",
    "regressor_mae.summary()"
   ]
  },
  {
   "cell_type": "code",
   "execution_count": 0,
   "metadata": {
    "colab": {
     "base_uri": "https://localhost:8080/",
     "height": 1000
    },
    "colab_type": "code",
    "id": "gZcMKvdHPwaF",
    "outputId": "2aadc47e-f3e9-4aa2-fa8a-8d079ee91c79"
   },
   "outputs": [
    {
     "name": "stdout",
     "output_type": "stream",
     "text": [
      "Epoch: 0\n",
      "117/117 [==============================] - 2s 13ms/step - loss: 0.0642\n",
      "Epoch: 1\n",
      "117/117 [==============================] - 2s 13ms/step - loss: 0.0704\n",
      "Epoch: 2\n",
      "117/117 [==============================] - 2s 13ms/step - loss: 0.0810\n",
      "Epoch: 3\n",
      "117/117 [==============================] - 2s 13ms/step - loss: 0.0904\n",
      "Epoch: 4\n",
      "117/117 [==============================] - 2s 13ms/step - loss: 0.0815\n",
      "Epoch: 5\n",
      "117/117 [==============================] - 2s 13ms/step - loss: 0.0692\n",
      "Epoch: 6\n",
      "117/117 [==============================] - 2s 13ms/step - loss: 0.0587\n",
      "Epoch: 7\n",
      "117/117 [==============================] - 2s 13ms/step - loss: 0.0533\n",
      "Epoch: 8\n",
      "117/117 [==============================] - 2s 13ms/step - loss: 0.0512\n",
      "Epoch: 9\n",
      "117/117 [==============================] - 2s 13ms/step - loss: 0.0506\n",
      "Epoch: 10\n",
      "117/117 [==============================] - 2s 13ms/step - loss: 0.0500\n",
      "Epoch: 11\n",
      "117/117 [==============================] - 2s 13ms/step - loss: 0.0494\n",
      "Epoch: 12\n",
      "117/117 [==============================] - 2s 13ms/step - loss: 0.0489\n",
      "Epoch: 13\n",
      "117/117 [==============================] - 2s 13ms/step - loss: 0.0481\n",
      "Epoch: 14\n",
      "117/117 [==============================] - 2s 13ms/step - loss: 0.0471\n",
      "Epoch: 15\n",
      "117/117 [==============================] - 2s 13ms/step - loss: 0.0462\n",
      "Epoch: 16\n",
      "117/117 [==============================] - 2s 13ms/step - loss: 0.0456\n",
      "Epoch: 17\n",
      "117/117 [==============================] - 2s 13ms/step - loss: 0.0451\n",
      "Epoch: 18\n",
      "117/117 [==============================] - 2s 13ms/step - loss: 0.0445\n",
      "Epoch: 19\n",
      "117/117 [==============================] - 2s 13ms/step - loss: 0.0441\n",
      "Epoch: 20\n",
      "117/117 [==============================] - 2s 13ms/step - loss: 0.0438\n",
      "Epoch: 21\n",
      "117/117 [==============================] - 2s 13ms/step - loss: 0.0434\n",
      "Epoch: 22\n",
      "117/117 [==============================] - 2s 13ms/step - loss: 0.0431\n",
      "Epoch: 23\n",
      "117/117 [==============================] - 2s 13ms/step - loss: 0.0428\n",
      "Epoch: 24\n",
      "117/117 [==============================] - 2s 13ms/step - loss: 0.0426\n",
      "Epoch: 25\n",
      "117/117 [==============================] - 2s 13ms/step - loss: 0.0422\n",
      "Epoch: 26\n",
      "117/117 [==============================] - 2s 13ms/step - loss: 0.0419\n",
      "Epoch: 27\n",
      "117/117 [==============================] - 2s 13ms/step - loss: 0.0417\n",
      "Epoch: 28\n",
      "117/117 [==============================] - 2s 13ms/step - loss: 0.0414\n",
      "Epoch: 29\n",
      "117/117 [==============================] - 2s 13ms/step - loss: 0.0411\n",
      "Epoch: 30\n",
      "117/117 [==============================] - 2s 13ms/step - loss: 0.0410\n",
      "Epoch: 31\n",
      "117/117 [==============================] - 2s 13ms/step - loss: 0.0408\n",
      "Epoch: 32\n",
      "117/117 [==============================] - 2s 13ms/step - loss: 0.0406\n",
      "Epoch: 33\n",
      "117/117 [==============================] - 2s 13ms/step - loss: 0.0403\n",
      "Epoch: 34\n",
      "117/117 [==============================] - 2s 13ms/step - loss: 0.0402\n",
      "Epoch: 35\n",
      "117/117 [==============================] - 2s 13ms/step - loss: 0.0400\n",
      "Epoch: 36\n",
      "117/117 [==============================] - 2s 13ms/step - loss: 0.0398\n",
      "Epoch: 37\n",
      "117/117 [==============================] - 2s 13ms/step - loss: 0.0396\n",
      "Epoch: 38\n",
      "117/117 [==============================] - 2s 13ms/step - loss: 0.0395\n",
      "Epoch: 39\n",
      "117/117 [==============================] - 2s 13ms/step - loss: 0.0394\n",
      "Epoch: 40\n",
      "117/117 [==============================] - 2s 13ms/step - loss: 0.0392\n",
      "Epoch: 41\n",
      "117/117 [==============================] - 2s 14ms/step - loss: 0.0389\n",
      "Epoch: 42\n",
      "117/117 [==============================] - 2s 13ms/step - loss: 0.0395\n",
      "Epoch: 43\n",
      "117/117 [==============================] - 2s 13ms/step - loss: 0.0396\n",
      "Epoch: 44\n",
      "117/117 [==============================] - 2s 13ms/step - loss: 0.0398\n",
      "Epoch: 45\n",
      "117/117 [==============================] - 2s 13ms/step - loss: 0.0386\n",
      "Epoch: 46\n",
      "117/117 [==============================] - 2s 13ms/step - loss: 0.0386\n",
      "Epoch: 47\n",
      "117/117 [==============================] - 2s 13ms/step - loss: 0.0382\n",
      "Epoch: 48\n",
      "117/117 [==============================] - 2s 13ms/step - loss: 0.0382\n",
      "Epoch: 49\n",
      "117/117 [==============================] - 2s 13ms/step - loss: 0.0380\n",
      "Epoch: 50\n",
      "117/117 [==============================] - 2s 13ms/step - loss: 0.0379\n",
      "Epoch: 51\n",
      "117/117 [==============================] - 2s 13ms/step - loss: 0.0378\n",
      "Epoch: 52\n",
      "117/117 [==============================] - 2s 13ms/step - loss: 0.0377\n",
      "Epoch: 53\n",
      "117/117 [==============================] - 2s 13ms/step - loss: 0.0375\n",
      "Epoch: 54\n",
      "117/117 [==============================] - 2s 13ms/step - loss: 0.0375\n",
      "Epoch: 55\n",
      "117/117 [==============================] - 2s 13ms/step - loss: 0.0373\n",
      "Epoch: 56\n",
      "117/117 [==============================] - 2s 13ms/step - loss: 0.0373\n",
      "Epoch: 57\n",
      "117/117 [==============================] - 2s 13ms/step - loss: 0.0371\n",
      "Epoch: 58\n",
      "117/117 [==============================] - 2s 13ms/step - loss: 0.0372\n",
      "Epoch: 59\n",
      "117/117 [==============================] - 2s 13ms/step - loss: 0.0370\n",
      "Epoch: 60\n",
      "117/117 [==============================] - 2s 13ms/step - loss: 0.0373\n",
      "Epoch: 61\n",
      "117/117 [==============================] - 2s 13ms/step - loss: 0.0369\n",
      "Epoch: 62\n",
      "117/117 [==============================] - 2s 13ms/step - loss: 0.0370\n",
      "Epoch: 63\n",
      "117/117 [==============================] - 2s 13ms/step - loss: 0.0367\n",
      "Epoch: 64\n",
      "117/117 [==============================] - 2s 13ms/step - loss: 0.0366\n",
      "Epoch: 65\n",
      "117/117 [==============================] - 2s 13ms/step - loss: 0.0364\n",
      "Epoch: 66\n",
      "117/117 [==============================] - 2s 13ms/step - loss: 0.0364\n",
      "Epoch: 67\n",
      "117/117 [==============================] - 2s 13ms/step - loss: 0.0362\n",
      "Epoch: 68\n",
      "117/117 [==============================] - 2s 13ms/step - loss: 0.0363\n",
      "Epoch: 69\n",
      "117/117 [==============================] - 2s 13ms/step - loss: 0.0360\n",
      "Epoch: 70\n",
      "117/117 [==============================] - 2s 13ms/step - loss: 0.0361\n",
      "Epoch: 71\n",
      "117/117 [==============================] - 2s 13ms/step - loss: 0.0359\n",
      "Epoch: 72\n",
      "117/117 [==============================] - 2s 13ms/step - loss: 0.0361\n",
      "Epoch: 73\n",
      "117/117 [==============================] - 2s 13ms/step - loss: 0.0358\n",
      "Epoch: 74\n",
      "117/117 [==============================] - 2s 13ms/step - loss: 0.0360\n",
      "Epoch: 75\n",
      "117/117 [==============================] - 2s 13ms/step - loss: 0.0357\n",
      "Epoch: 76\n",
      "117/117 [==============================] - 2s 13ms/step - loss: 0.0358\n",
      "Epoch: 77\n",
      "117/117 [==============================] - 2s 13ms/step - loss: 0.0356\n",
      "Epoch: 78\n",
      "117/117 [==============================] - 2s 13ms/step - loss: 0.0356\n",
      "Epoch: 79\n",
      "117/117 [==============================] - 2s 13ms/step - loss: 0.0355\n",
      "Epoch: 80\n",
      "117/117 [==============================] - 2s 13ms/step - loss: 0.0355\n",
      "Epoch: 81\n",
      "117/117 [==============================] - 2s 13ms/step - loss: 0.0354\n",
      "Epoch: 82\n",
      "117/117 [==============================] - 2s 13ms/step - loss: 0.0354\n",
      "Epoch: 83\n",
      "117/117 [==============================] - 2s 13ms/step - loss: 0.0353\n",
      "Epoch: 84\n",
      "117/117 [==============================] - 2s 13ms/step - loss: 0.0354\n",
      "Epoch: 85\n",
      "117/117 [==============================] - 2s 13ms/step - loss: 0.0352\n",
      "Epoch: 86\n",
      "117/117 [==============================] - 2s 13ms/step - loss: 0.0353\n",
      "Epoch: 87\n",
      "117/117 [==============================] - 2s 13ms/step - loss: 0.0352\n",
      "Epoch: 88\n",
      "117/117 [==============================] - 2s 14ms/step - loss: 0.0352\n",
      "Epoch: 89\n",
      "117/117 [==============================] - 2s 13ms/step - loss: 0.0350\n",
      "Epoch: 90\n",
      "117/117 [==============================] - 2s 13ms/step - loss: 0.0350\n",
      "Epoch: 91\n",
      "117/117 [==============================] - 2s 13ms/step - loss: 0.0348\n",
      "Epoch: 92\n",
      "117/117 [==============================] - 2s 13ms/step - loss: 0.0351\n",
      "Epoch: 93\n",
      "117/117 [==============================] - 2s 13ms/step - loss: 0.0347\n",
      "Epoch: 94\n",
      "117/117 [==============================] - 2s 13ms/step - loss: 0.0351\n",
      "Epoch: 95\n",
      "117/117 [==============================] - 2s 13ms/step - loss: 0.0347\n",
      "Epoch: 96\n",
      "117/117 [==============================] - 2s 13ms/step - loss: 0.0350\n",
      "Epoch: 97\n",
      "117/117 [==============================] - 2s 13ms/step - loss: 0.0346\n",
      "Epoch: 98\n",
      "117/117 [==============================] - 2s 13ms/step - loss: 0.0348\n",
      "Epoch: 99\n",
      "117/117 [==============================] - 2s 13ms/step - loss: 0.0346\n",
      "Epoch: 100\n",
      "117/117 [==============================] - 2s 13ms/step - loss: 0.0347\n",
      "Epoch: 101\n",
      "117/117 [==============================] - 2s 13ms/step - loss: 0.0345\n",
      "Epoch: 102\n",
      "117/117 [==============================] - 2s 13ms/step - loss: 0.0346\n",
      "Epoch: 103\n",
      "117/117 [==============================] - 2s 13ms/step - loss: 0.0345\n",
      "Epoch: 104\n",
      "117/117 [==============================] - 2s 13ms/step - loss: 0.0345\n",
      "Epoch: 105\n",
      "117/117 [==============================] - 2s 13ms/step - loss: 0.0344\n",
      "Epoch: 106\n",
      "117/117 [==============================] - 2s 13ms/step - loss: 0.0344\n",
      "Epoch: 107\n",
      "117/117 [==============================] - 2s 13ms/step - loss: 0.0344\n",
      "Epoch: 108\n",
      "117/117 [==============================] - 2s 13ms/step - loss: 0.0343\n",
      "Epoch: 109\n",
      "117/117 [==============================] - 2s 13ms/step - loss: 0.0343\n",
      "Epoch: 110\n",
      "117/117 [==============================] - 2s 13ms/step - loss: 0.0342\n",
      "Epoch: 111\n",
      "117/117 [==============================] - 2s 13ms/step - loss: 0.0343\n",
      "Epoch: 112\n",
      "117/117 [==============================] - 2s 14ms/step - loss: 0.0342\n",
      "Epoch: 113\n",
      "117/117 [==============================] - 2s 13ms/step - loss: 0.0342\n",
      "Epoch: 114\n",
      "117/117 [==============================] - 2s 13ms/step - loss: 0.0341\n",
      "Epoch: 115\n",
      "117/117 [==============================] - 2s 13ms/step - loss: 0.0342\n",
      "Epoch: 116\n",
      "117/117 [==============================] - 2s 13ms/step - loss: 0.0340\n",
      "Epoch: 117\n",
      "117/117 [==============================] - 2s 14ms/step - loss: 0.0341\n",
      "Epoch: 118\n",
      "117/117 [==============================] - 2s 13ms/step - loss: 0.0340\n",
      "Epoch: 119\n",
      "117/117 [==============================] - 2s 13ms/step - loss: 0.0340\n"
     ]
    }
   ],
   "source": [
    "#Statefull\n",
    "for i in range(epochs):\n",
    "    print(\"Epoch: \" + str(i))\n",
    "    #run through all data but the cell, hidden state are used for the next batch.\n",
    "    regressor_mae.fit(X_train, y_train, shuffle=False, epochs = 1, batch_size = batch_size)\n",
    "    #resets only the states but the weights, cell and hidden are kept.\n",
    "    regressor_mae.reset_states()\n",
    "    \n",
    "#Stateless\n",
    "#between the batches the cell and hidden states are lost.\n",
    "#regressor_mae.fit(X_train, y_train, shuffle=False, epochs = epochs, batch_size "
   ]
  },
  {
   "cell_type": "code",
   "execution_count": 0,
   "metadata": {
    "colab": {},
    "colab_type": "code",
    "id": "2xRk89U-P0Zn"
   },
   "outputs": [],
   "source": [
    "def get_test_length(dataset, batch_size):\n",
    "    \n",
    "    test_length_values = []\n",
    "    for x in range(len(dataset) - 200, len(dataset) - timesteps*2): \n",
    "        modulo=(x-upper_train)%batch_size\n",
    "        if (modulo == 0):\n",
    "            test_length_values.append(x)\n",
    "            print(x)\n",
    "    return (max(test_length_values))"
   ]
  },
  {
   "cell_type": "code",
   "execution_count": 0,
   "metadata": {
    "colab": {
     "base_uri": "https://localhost:8080/",
     "height": 84
    },
    "colab_type": "code",
    "id": "JytiCuUIQt3m",
    "outputId": "05c3fd93-e13e-4852-f705-7b85d408fb09"
   },
   "outputs": [
    {
     "name": "stdout",
     "output_type": "stream",
     "text": [
      "8188\n",
      "8252\n",
      "8252\n",
      "704\n"
     ]
    }
   ],
   "source": [
    "test_length = get_test_length(df_data_1, batch_size)\n",
    "print(test_length)\n",
    "upper_test = test_length + timesteps*2\n",
    "testset_length = test_length - upper_train\n",
    "print(testset_length)"
   ]
  },
  {
   "cell_type": "code",
   "execution_count": 0,
   "metadata": {
    "colab": {},
    "colab_type": "code",
    "id": "lV7LwHGSQwaz"
   },
   "outputs": [],
   "source": [
    "# construct test set\n",
    "\n",
    "#subsetting\n",
    "df_data_1_test = df_data_1[upper_train:upper_test] \n",
    "test_set = df_data_1_test.iloc[:,1:2].values\n",
    "\n",
    "#scaling\n",
    "scaled_real_bcg_values_test = sc.fit_transform(np.float64(test_set))\n",
    "\n",
    "#creating input data\n",
    "X_test = []\n",
    "for i in range(timesteps, testset_length + timesteps):\n",
    "    X_test.append(scaled_real_bcg_values_test[i-timesteps:i, 0])\n",
    "X_test = np.array(X_test)\n",
    "\n",
    "\n",
    "#reshaping\n",
    "X_test = np.reshape(X_test, (X_test.shape[0], X_test.shape[1], 1))"
   ]
  },
  {
   "cell_type": "code",
   "execution_count": 0,
   "metadata": {
    "colab": {
     "base_uri": "https://localhost:8080/",
     "height": 67
    },
    "colab_type": "code",
    "id": "kcCmGo25QzTM",
    "outputId": "33c39ec1-c93e-44e6-82db-0a7fb6f73695"
   },
   "outputs": [
    {
     "name": "stdout",
     "output_type": "stream",
     "text": [
      "(704, 30, 1)\n",
      "(704, 30)\n",
      "(674, 1)\n"
     ]
    }
   ],
   "source": [
    "#prediction\n",
    "predicted_bcg_values_test_mae = regressor_mae.predict(X_test, batch_size=batch_size)\n",
    "regressor_mae.reset_states()\n",
    "\n",
    "print(predicted_bcg_values_test_mae.shape)\n",
    "\n",
    "#reshaping\n",
    "predicted_bcg_values_test_mae = np.reshape(predicted_bcg_values_test_mae, \n",
    "                                       (predicted_bcg_values_test_mae.shape[0], \n",
    "                                        predicted_bcg_values_test_mae.shape[1]))\n",
    "\n",
    "print(predicted_bcg_values_test_mae.shape)\n",
    "#inverse transform\n",
    "predicted_bcg_values_test_mae = sc.inverse_transform(predicted_bcg_values_test_mae)\n",
    "\n",
    "\n",
    "#creating y_test data\n",
    "y_test = []\n",
    "for j in range(0, testset_length - timesteps):\n",
    "    y_test = np.append(y_test, predicted_bcg_values_test_mae[j, timesteps-1])\n",
    "\n",
    "# reshaping\n",
    "y_test = np.reshape(y_test, (y_test.shape[0], 1))\n",
    "\n",
    "print(y_test.shape)"
   ]
  },
  {
   "cell_type": "code",
   "execution_count": 0,
   "metadata": {
    "colab": {
     "base_uri": "https://localhost:8080/",
     "height": 295
    },
    "colab_type": "code",
    "id": "q2LAj47pQ3xs",
    "outputId": "607ae020-edaa-43ba-f629-1777da551710"
   },
   "outputs": [
    {
     "data": {
      "image/png": "[encoded data removed]",
      "text/plain": [
       "<Figure size 432x288 with 1 Axes>"
      ]
     },
     "metadata": {
      "needs_background": "light",
      "tags": []
     },
     "output_type": "display_data"
    }
   ],
   "source": [
    "# Visualising the results\n",
    "plt.plot(test_set[timesteps:len(y_test)].astype(float), color = 'red', label = 'Real Crude Oil Prices')\n",
    "plt.plot(y_test[0:len(y_test) - timesteps].astype(float), color = 'blue', label = 'Predicted Crude Oil Prices')\n",
    "plt.title('Crude Oil Prices Prediction - MAE')\n",
    "plt.xlabel('Time')\n",
    "plt.ylabel('Crude Oil Prices')\n",
    "plt.legend()\n",
    "plt.show()"
   ]
  },
  {
   "cell_type": "code",
   "execution_count": 0,
   "metadata": {
    "colab": {
     "base_uri": "https://localhost:8080/",
     "height": 34
    },
    "colab_type": "code",
    "id": "j7yP6LCbQ7dH",
    "outputId": "e83f0894-dca0-420c-de34-f5ed916a015b"
   },
   "outputs": [
    {
     "name": "stdout",
     "output_type": "stream",
     "text": [
      "1.9506430771235064\n"
     ]
    }
   ],
   "source": [
    "#MSE (mean sqared error)\n",
    "import math\n",
    "from sklearn.metrics import mean_squared_error\n",
    "rmse = math.sqrt(mean_squared_error(test_set[timesteps:len(y_test)], y_test[0:len(y_test) - timesteps]))\n",
    "print(rmse)"
   ]
  },
  {
   "cell_type": "code",
   "execution_count": 0,
   "metadata": {
    "colab": {
     "base_uri": "https://localhost:8080/",
     "height": 34
    },
    "colab_type": "code",
    "id": "BRVqnoI6RA38",
    "outputId": "7b631837-95e9-4164-b961-9670e809c7e6"
   },
   "outputs": [
    {
     "name": "stdout",
     "output_type": "stream",
     "text": [
      "1.5240439155531227\n"
     ]
    }
   ],
   "source": [
    "#MAE (mean absolut error)\n",
    "from sklearn.metrics import mean_absolute_error\n",
    "mae = mean_absolute_error(test_set[timesteps:len(y_test)], y_test[0:len(y_test) - timesteps])\n",
    "print(mae)"
   ]
  },
  {
   "cell_type": "code",
   "execution_count": 0,
   "metadata": {
    "colab": {
     "base_uri": "https://localhost:8080/",
     "height": 286
    },
    "colab_type": "code",
    "id": "6gCpC38CREWT",
    "outputId": "7e9db7d3-1dea-46f7-99b2-f17673abfe83"
   },
   "outputs": [
    {
     "name": "stdout",
     "output_type": "stream",
     "text": [
      "Model: \"model_1\"\n",
      "_________________________________________________________________\n",
      "Layer (type)                 Output Shape              Param #   \n",
      "=================================================================\n",
      "input_2 (InputLayer)         [(64, 30, 1)]             0         \n",
      "_________________________________________________________________\n",
      "lstm_2 (LSTM)                (64, 30, 10)              480       \n",
      "_________________________________________________________________\n",
      "lstm_3 (LSTM)                (64, 30, 10)              840       \n",
      "_________________________________________________________________\n",
      "dense_1 (Dense)              (64, 30, 1)               11        \n",
      "=================================================================\n",
      "Total params: 1,331\n",
      "Trainable params: 1,331\n",
      "Non-trainable params: 0\n",
      "_________________________________________________________________\n"
     ]
    }
   ],
   "source": [
    "# Initialising the LSTM Model with MSE Loss Function\n",
    "\n",
    "inputs_1_mse = Input(batch_shape=(batch_size,timesteps,1))\n",
    "lstm_1_mse = LSTM(10, stateful=True, return_sequences=True)(inputs_1_mse)\n",
    "lstm_2_mse = LSTM(10, stateful=True, return_sequences=True)(lstm_1_mse)\n",
    "\n",
    "output_1_mse = Dense(units = 1)(lstm_2_mse)\n",
    "\n",
    "regressor_mse = Model(inputs=inputs_1_mse, outputs = output_1_mse)\n",
    "\n",
    "#mse -> mean squared error as loss function\n",
    "regressor_mse.compile(optimizer='adam', loss = 'mse')\n",
    "regressor_mse.summary()"
   ]
  },
  {
   "cell_type": "code",
   "execution_count": 0,
   "metadata": {
    "colab": {
     "base_uri": "https://localhost:8080/",
     "height": 1000
    },
    "colab_type": "code",
    "id": "h677D21iRJIn",
    "outputId": "495fdae7-f09c-48cb-abd3-6373295996f5"
   },
   "outputs": [
    {
     "name": "stdout",
     "output_type": "stream",
     "text": [
      "Epoch: 0\n",
      "117/117 [==============================] - 2s 13ms/step - loss: 0.0060\n",
      "Epoch: 1\n",
      "117/117 [==============================] - 2s 13ms/step - loss: 0.0076\n",
      "Epoch: 2\n",
      "117/117 [==============================] - 2s 13ms/step - loss: 0.0095\n",
      "Epoch: 3\n",
      "117/117 [==============================] - 2s 13ms/step - loss: 0.0115\n",
      "Epoch: 4\n",
      "117/117 [==============================] - 2s 13ms/step - loss: 0.0126\n",
      "Epoch: 5\n",
      "117/117 [==============================] - 2s 14ms/step - loss: 0.0113\n",
      "Epoch: 6\n",
      "117/117 [==============================] - 2s 14ms/step - loss: 0.0099\n",
      "Epoch: 7\n",
      "117/117 [==============================] - 2s 13ms/step - loss: 0.0078\n",
      "Epoch: 8\n",
      "117/117 [==============================] - 2s 14ms/step - loss: 0.0062\n",
      "Epoch: 9\n",
      "117/117 [==============================] - 2s 14ms/step - loss: 0.0053\n",
      "Epoch: 10\n",
      "117/117 [==============================] - 2s 13ms/step - loss: 0.0048\n",
      "Epoch: 11\n",
      "117/117 [==============================] - 2s 14ms/step - loss: 0.0046\n",
      "Epoch: 12\n",
      "117/117 [==============================] - 2s 13ms/step - loss: 0.0045\n",
      "Epoch: 13\n",
      "117/117 [==============================] - 2s 13ms/step - loss: 0.0045\n",
      "Epoch: 14\n",
      "117/117 [==============================] - 2s 13ms/step - loss: 0.0045\n",
      "Epoch: 15\n",
      "117/117 [==============================] - 2s 13ms/step - loss: 0.0044\n",
      "Epoch: 16\n",
      "117/117 [==============================] - 2s 14ms/step - loss: 0.0044\n",
      "Epoch: 17\n",
      "117/117 [==============================] - 2s 13ms/step - loss: 0.0044\n",
      "Epoch: 18\n",
      "117/117 [==============================] - 2s 13ms/step - loss: 0.0044\n",
      "Epoch: 19\n",
      "117/117 [==============================] - 2s 14ms/step - loss: 0.0043\n",
      "Epoch: 20\n",
      "117/117 [==============================] - 2s 13ms/step - loss: 0.0043\n",
      "Epoch: 21\n",
      "117/117 [==============================] - 2s 13ms/step - loss: 0.0042\n",
      "Epoch: 22\n",
      "117/117 [==============================] - 2s 13ms/step - loss: 0.0042\n",
      "Epoch: 23\n",
      "117/117 [==============================] - 2s 13ms/step - loss: 0.0042\n",
      "Epoch: 24\n",
      "117/117 [==============================] - 2s 14ms/step - loss: 0.0041\n",
      "Epoch: 25\n",
      "117/117 [==============================] - 2s 13ms/step - loss: 0.0041\n",
      "Epoch: 26\n",
      "117/117 [==============================] - 2s 13ms/step - loss: 0.0040\n",
      "Epoch: 27\n",
      "117/117 [==============================] - 2s 13ms/step - loss: 0.0040\n",
      "Epoch: 28\n",
      "117/117 [==============================] - 2s 13ms/step - loss: 0.0040\n",
      "Epoch: 29\n",
      "117/117 [==============================] - 2s 13ms/step - loss: 0.0039\n",
      "Epoch: 30\n",
      "117/117 [==============================] - 2s 13ms/step - loss: 0.0039\n",
      "Epoch: 31\n",
      "117/117 [==============================] - 2s 13ms/step - loss: 0.0040\n",
      "Epoch: 32\n",
      "117/117 [==============================] - 2s 14ms/step - loss: 0.0040\n",
      "Epoch: 33\n",
      "117/117 [==============================] - 2s 14ms/step - loss: 0.0040\n",
      "Epoch: 34\n",
      "117/117 [==============================] - 2s 13ms/step - loss: 0.0039\n",
      "Epoch: 35\n",
      "117/117 [==============================] - 2s 13ms/step - loss: 0.0038\n",
      "Epoch: 36\n",
      "117/117 [==============================] - 2s 13ms/step - loss: 0.0038\n",
      "Epoch: 37\n",
      "117/117 [==============================] - 2s 13ms/step - loss: 0.0038\n",
      "Epoch: 38\n",
      "117/117 [==============================] - 2s 13ms/step - loss: 0.0036\n",
      "Epoch: 39\n",
      "117/117 [==============================] - 2s 14ms/step - loss: 0.0036\n",
      "Epoch: 40\n",
      "117/117 [==============================] - 2s 13ms/step - loss: 0.0037\n",
      "Epoch: 41\n",
      "117/117 [==============================] - 2s 13ms/step - loss: 0.0038\n",
      "Epoch: 42\n",
      "117/117 [==============================] - 2s 14ms/step - loss: 0.0037\n",
      "Epoch: 43\n",
      "117/117 [==============================] - 2s 14ms/step - loss: 0.0036\n",
      "Epoch: 44\n",
      "117/117 [==============================] - 2s 14ms/step - loss: 0.0037\n",
      "Epoch: 45\n",
      "117/117 [==============================] - 2s 14ms/step - loss: 0.0033\n",
      "Epoch: 46\n",
      "117/117 [==============================] - 2s 14ms/step - loss: 0.0035\n",
      "Epoch: 47\n",
      "117/117 [==============================] - 2s 13ms/step - loss: 0.0034\n",
      "Epoch: 48\n",
      "117/117 [==============================] - 2s 13ms/step - loss: 0.0035\n",
      "Epoch: 49\n",
      "117/117 [==============================] - 2s 13ms/step - loss: 0.0033\n",
      "Epoch: 50\n",
      "117/117 [==============================] - 2s 13ms/step - loss: 0.0033\n",
      "Epoch: 51\n",
      "117/117 [==============================] - 2s 14ms/step - loss: 0.0033\n",
      "Epoch: 52\n",
      "117/117 [==============================] - 2s 13ms/step - loss: 0.0033\n",
      "Epoch: 53\n",
      "117/117 [==============================] - 2s 13ms/step - loss: 0.0032\n",
      "Epoch: 54\n",
      "117/117 [==============================] - 2s 14ms/step - loss: 0.0033\n",
      "Epoch: 55\n",
      "117/117 [==============================] - 2s 14ms/step - loss: 0.0032\n",
      "Epoch: 56\n",
      "117/117 [==============================] - 2s 13ms/step - loss: 0.0034\n",
      "Epoch: 57\n",
      "117/117 [==============================] - 2s 13ms/step - loss: 0.0031\n",
      "Epoch: 58\n",
      "117/117 [==============================] - 2s 14ms/step - loss: 0.0034\n",
      "Epoch: 59\n",
      "117/117 [==============================] - 2s 13ms/step - loss: 0.0032\n",
      "Epoch: 60\n",
      "117/117 [==============================] - 2s 13ms/step - loss: 0.0033\n",
      "Epoch: 61\n",
      "117/117 [==============================] - 2s 14ms/step - loss: 0.0032\n",
      "Epoch: 62\n",
      "117/117 [==============================] - 2s 13ms/step - loss: 0.0033\n",
      "Epoch: 63\n",
      "117/117 [==============================] - 2s 13ms/step - loss: 0.0030\n",
      "Epoch: 64\n",
      "117/117 [==============================] - 2s 13ms/step - loss: 0.0032\n",
      "Epoch: 65\n",
      "117/117 [==============================] - 2s 14ms/step - loss: 0.0031\n",
      "Epoch: 66\n",
      "117/117 [==============================] - 2s 13ms/step - loss: 0.0033\n",
      "Epoch: 67\n",
      "117/117 [==============================] - 2s 13ms/step - loss: 0.0030\n",
      "Epoch: 68\n",
      "117/117 [==============================] - 2s 13ms/step - loss: 0.0032\n",
      "Epoch: 69\n",
      "117/117 [==============================] - 2s 13ms/step - loss: 0.0030\n",
      "Epoch: 70\n",
      "117/117 [==============================] - 2s 13ms/step - loss: 0.0031\n",
      "Epoch: 71\n",
      "117/117 [==============================] - 2s 13ms/step - loss: 0.0030\n",
      "Epoch: 72\n",
      "117/117 [==============================] - 2s 13ms/step - loss: 0.0031\n",
      "Epoch: 73\n",
      "117/117 [==============================] - 2s 13ms/step - loss: 0.0030\n",
      "Epoch: 74\n",
      "117/117 [==============================] - 2s 13ms/step - loss: 0.0030\n",
      "Epoch: 75\n",
      "117/117 [==============================] - 2s 13ms/step - loss: 0.0030\n",
      "Epoch: 76\n",
      "117/117 [==============================] - 2s 14ms/step - loss: 0.0029\n",
      "Epoch: 77\n",
      "117/117 [==============================] - 2s 13ms/step - loss: 0.0030\n",
      "Epoch: 78\n",
      "117/117 [==============================] - 2s 13ms/step - loss: 0.0029\n",
      "Epoch: 79\n",
      "117/117 [==============================] - 2s 13ms/step - loss: 0.0030\n",
      "Epoch: 80\n",
      "117/117 [==============================] - 2s 14ms/step - loss: 0.0029\n",
      "Epoch: 81\n",
      "117/117 [==============================] - 2s 13ms/step - loss: 0.0029\n",
      "Epoch: 82\n",
      "117/117 [==============================] - 2s 14ms/step - loss: 0.0029\n",
      "Epoch: 83\n",
      "117/117 [==============================] - 2s 14ms/step - loss: 0.0029\n",
      "Epoch: 84\n",
      "117/117 [==============================] - 2s 14ms/step - loss: 0.0029\n",
      "Epoch: 85\n",
      "117/117 [==============================] - 2s 14ms/step - loss: 0.0029\n",
      "Epoch: 86\n",
      "117/117 [==============================] - 2s 13ms/step - loss: 0.0030\n",
      "Epoch: 87\n",
      "117/117 [==============================] - 2s 14ms/step - loss: 0.0028\n",
      "Epoch: 88\n",
      "117/117 [==============================] - 2s 13ms/step - loss: 0.0030\n",
      "Epoch: 89\n",
      "117/117 [==============================] - 2s 13ms/step - loss: 0.0028\n",
      "Epoch: 90\n",
      "117/117 [==============================] - 2s 14ms/step - loss: 0.0029\n",
      "Epoch: 91\n",
      "117/117 [==============================] - 2s 14ms/step - loss: 0.0029\n",
      "Epoch: 92\n",
      "117/117 [==============================] - 2s 14ms/step - loss: 0.0029\n",
      "Epoch: 93\n",
      "117/117 [==============================] - 2s 14ms/step - loss: 0.0027\n",
      "Epoch: 94\n",
      "117/117 [==============================] - 2s 13ms/step - loss: 0.0028\n",
      "Epoch: 95\n",
      "117/117 [==============================] - 2s 13ms/step - loss: 0.0029\n",
      "Epoch: 96\n",
      "117/117 [==============================] - 2s 13ms/step - loss: 0.0028\n",
      "Epoch: 97\n",
      "117/117 [==============================] - 2s 14ms/step - loss: 0.0028\n",
      "Epoch: 98\n",
      "117/117 [==============================] - 2s 14ms/step - loss: 0.0028\n",
      "Epoch: 99\n",
      "117/117 [==============================] - 2s 14ms/step - loss: 0.0028\n",
      "Epoch: 100\n",
      "117/117 [==============================] - 2s 14ms/step - loss: 0.0026\n",
      "Epoch: 101\n",
      "117/117 [==============================] - 2s 13ms/step - loss: 0.0027\n",
      "Epoch: 102\n",
      "117/117 [==============================] - 2s 13ms/step - loss: 0.0028\n",
      "Epoch: 103\n",
      "117/117 [==============================] - 2s 13ms/step - loss: 0.0027\n",
      "Epoch: 104\n",
      "117/117 [==============================] - 2s 14ms/step - loss: 0.0027\n",
      "Epoch: 105\n",
      "117/117 [==============================] - 2s 14ms/step - loss: 0.0027\n",
      "Epoch: 106\n",
      "117/117 [==============================] - 2s 13ms/step - loss: 0.0026\n",
      "Epoch: 107\n",
      "117/117 [==============================] - 2s 14ms/step - loss: 0.0026\n",
      "Epoch: 108\n",
      "117/117 [==============================] - 2s 13ms/step - loss: 0.0025\n",
      "Epoch: 109\n",
      "117/117 [==============================] - 2s 13ms/step - loss: 0.0026\n",
      "Epoch: 110\n",
      "117/117 [==============================] - 2s 14ms/step - loss: 0.0025\n",
      "Epoch: 111\n",
      "117/117 [==============================] - 2s 14ms/step - loss: 0.0025\n",
      "Epoch: 112\n",
      "117/117 [==============================] - 2s 14ms/step - loss: 0.0026\n",
      "Epoch: 113\n",
      "117/117 [==============================] - 2s 14ms/step - loss: 0.0026\n",
      "Epoch: 114\n",
      "117/117 [==============================] - 2s 13ms/step - loss: 0.0025\n",
      "Epoch: 115\n",
      "117/117 [==============================] - 2s 13ms/step - loss: 0.0026\n",
      "Epoch: 116\n",
      "117/117 [==============================] - 2s 14ms/step - loss: 0.0026\n",
      "Epoch: 117\n",
      "117/117 [==============================] - 2s 13ms/step - loss: 0.0026\n",
      "Epoch: 118\n",
      "117/117 [==============================] - 2s 14ms/step - loss: 0.0026\n",
      "Epoch: 119\n",
      "117/117 [==============================] - 2s 14ms/step - loss: 0.0025\n"
     ]
    }
   ],
   "source": [
    "epochs = 120\n",
    "for i in range(epochs):\n",
    "    print(\"Epoch: \" + str(i))\n",
    "    regressor_mse.fit(X_train, y_train, shuffle=False, epochs = 1, batch_size = batch_size)\n",
    "    regressor_mse.reset_states()"
   ]
  },
  {
   "cell_type": "code",
   "execution_count": 0,
   "metadata": {
    "colab": {},
    "colab_type": "code",
    "id": "QEupaHjoRNHU"
   },
   "outputs": [],
   "source": [
    "predicted_bcg_values_test_mse = regressor_mse.predict(X_test, batch_size=batch_size)\n",
    "regressor_mse.reset_states()\n",
    "\n",
    "predicted_bcg_values_test_mse = np.reshape(predicted_bcg_values_test_mse, \n",
    "                                       (predicted_bcg_values_test_mse.shape[0], \n",
    "                                        predicted_bcg_values_test_mse.shape[1]))\n",
    "predicted_bcg_values_test_mse = sc.inverse_transform(predicted_bcg_values_test_mse)\n",
    "\n",
    "pred_mse = []\n",
    "\n",
    "for j in range(0, testset_length - timesteps):\n",
    "    pred_mse = np.append(pred_mse, predicted_bcg_values_test_mse[j, timesteps-1])\n",
    "\n",
    "pred_mse = np.reshape(pred_mse, (pred_mse.shape[0], 1))"
   ]
  },
  {
   "cell_type": "code",
   "execution_count": 0,
   "metadata": {
    "colab": {
     "base_uri": "https://localhost:8080/",
     "height": 295
    },
    "colab_type": "code",
    "id": "TJRIVMp7STco",
    "outputId": "8027dae7-032d-4447-d821-2874bab1cf53"
   },
   "outputs": [
    {
     "data": {
      "image/png": "[encoded data removed]",
      "text/plain": [
       "<Figure size 432x288 with 1 Axes>"
      ]
     },
     "metadata": {
      "needs_background": "light",
      "tags": []
     },
     "output_type": "display_data"
    }
   ],
   "source": [
    "# Visualising the results\n",
    "plt.plot(test_set[timesteps:len(pred_mse)].astype(float), color = 'red', label = 'Real Crude Oil Prices')\n",
    "plt.plot(pred_mse[0:len(pred_mse) - timesteps], color = 'green', label = 'Predicted Crude Oil Prices with MSE')\n",
    "plt.title('Crude Oil Prices Prediction - MSE')\n",
    "plt.xlabel('Time')\n",
    "plt.ylabel('Crude Oil Prices')\n",
    "plt.legend()\n",
    "plt.show()"
   ]
  },
  {
   "cell_type": "code",
   "execution_count": 0,
   "metadata": {
    "colab": {
     "base_uri": "https://localhost:8080/",
     "height": 34
    },
    "colab_type": "code",
    "id": "sLVLPYaDSWyA",
    "outputId": "2a21772a-b122-4d8d-ff2d-c2d97ffee39f"
   },
   "outputs": [
    {
     "name": "stdout",
     "output_type": "stream",
     "text": [
      "1.897424389359231\n"
     ]
    }
   ],
   "source": [
    "from sklearn.metrics import mean_squared_error\n",
    "rmse = math.sqrt(mean_squared_error(test_set[timesteps:len(pred_mse)], pred_mse[0:len(pred_mse) - timesteps]))\n",
    "print(rmse)"
   ]
  },
  {
   "cell_type": "code",
   "execution_count": 0,
   "metadata": {
    "colab": {
     "base_uri": "https://localhost:8080/",
     "height": 34
    },
    "colab_type": "code",
    "id": "7owHLnB0SbFH",
    "outputId": "32e62874-876c-463c-fc8b-ef87e7af525b"
   },
   "outputs": [
    {
     "name": "stdout",
     "output_type": "stream",
     "text": [
      "1.470000535005368\n"
     ]
    }
   ],
   "source": [
    "from sklearn.metrics import mean_absolute_error\n",
    "mae = mean_absolute_error(test_set[timesteps:len(pred_mse)], pred_mse[0:len(pred_mse) - timesteps])\n",
    "print(mae)"
   ]
  },
  {
   "cell_type": "code",
   "execution_count": 0,
   "metadata": {
    "colab": {},
    "colab_type": "code",
    "id": "1_T2GTJzSeXD"
   },
   "outputs": [],
   "source": []
  }
 ],
 "metadata": {
  "colab": {
   "collapsed_sections": [],
   "name": "Crude_oil_prediction_using_LSTM.ipynb",
   "provenance": []
  },
  "kernelspec": {
   "display_name": "Python 3",
   "language": "python",
   "name": "python3"
  },
  "language_info": {
   "codemirror_mode": {
    "name": "ipython",
    "version": 3
   },
   "file_extension": ".py",
   "mimetype": "text/x-python",
   "name": "python",
   "nbconvert_exporter": "python",
   "pygments_lexer": "ipython3",
   "version": "3.8.8"
  }
 },
 "nbformat": 4,
 "nbformat_minor": 1
}
